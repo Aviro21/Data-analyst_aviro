{
 "cells": [
  {
   "cell_type": "markdown",
   "id": "0fce386b",
   "metadata": {},
   "source": [
    "#  Continue here, Analysis! 3"
   ]
  },
  {
   "cell_type": "code",
   "execution_count": 21,
   "id": "c69ecfb2",
   "metadata": {},
   "outputs": [],
   "source": [
    "#importing libraries\n",
    "import pandas as pd\n",
    "import numpy as np\n",
    "import matplotlib.pyplot as plt\n",
    "import seaborn as sns\n",
    "%matplotlib inline\n",
    "import datetime"
   ]
  },
  {
   "cell_type": "code",
   "execution_count": 22,
   "id": "2d46c6ed",
   "metadata": {},
   "outputs": [],
   "source": [
    "# importing dataset\n",
    "cleaned_data=pd.read_csv('cleaned_data_exported.csv')"
   ]
  },
  {
   "cell_type": "markdown",
   "id": "70e92ee7",
   "metadata": {},
   "source": [
    "# 4. List out our most profitable Category & Subcategory?"
   ]
  },
  {
   "cell_type": "code",
   "execution_count": 23,
   "id": "2040e14c",
   "metadata": {},
   "outputs": [
    {
     "data": {
      "text/plain": [
       "array(['Furniture', 'Office Supplies', 'Technology'], dtype=object)"
      ]
     },
     "execution_count": 23,
     "metadata": {},
     "output_type": "execute_result"
    }
   ],
   "source": [
    "cleaned_data['Category'].unique()"
   ]
  },
  {
   "cell_type": "code",
   "execution_count": 24,
   "id": "3c3ee9c1",
   "metadata": {},
   "outputs": [
    {
     "data": {
      "text/plain": [
       "array(['Bookcases', 'Chairs', 'Labels', 'Tables', 'Storage',\n",
       "       'Furnishings', 'Art', 'Phones', 'Binders', 'Appliances', 'Paper',\n",
       "       'Accessories', 'Envelopes', 'Fasteners', 'Supplies', 'Machines',\n",
       "       'Copiers'], dtype=object)"
      ]
     },
     "execution_count": 24,
     "metadata": {},
     "output_type": "execute_result"
    }
   ],
   "source": [
    "cleaned_data['Sub-Category'].unique()"
   ]
  },
  {
   "cell_type": "code",
   "execution_count": 25,
   "id": "31481df6",
   "metadata": {},
   "outputs": [
    {
     "data": {
      "text/html": [
       "<div>\n",
       "<style scoped>\n",
       "    .dataframe tbody tr th:only-of-type {\n",
       "        vertical-align: middle;\n",
       "    }\n",
       "\n",
       "    .dataframe tbody tr th {\n",
       "        vertical-align: top;\n",
       "    }\n",
       "\n",
       "    .dataframe thead th {\n",
       "        text-align: right;\n",
       "    }\n",
       "</style>\n",
       "<table border=\"1\" class=\"dataframe\">\n",
       "  <thead>\n",
       "    <tr style=\"text-align: right;\">\n",
       "      <th></th>\n",
       "      <th></th>\n",
       "      <th>Postal Code</th>\n",
       "      <th>Sales</th>\n",
       "      <th>Quantity</th>\n",
       "      <th>Discount</th>\n",
       "      <th>Profit</th>\n",
       "    </tr>\n",
       "    <tr>\n",
       "      <th>Category</th>\n",
       "      <th>Sub-Category</th>\n",
       "      <th></th>\n",
       "      <th></th>\n",
       "      <th></th>\n",
       "      <th></th>\n",
       "      <th></th>\n",
       "    </tr>\n",
       "  </thead>\n",
       "  <tbody>\n",
       "    <tr>\n",
       "      <th rowspan=\"4\" valign=\"top\">Furniture</th>\n",
       "      <th>Tables</th>\n",
       "      <td>18607828</td>\n",
       "      <td>206965.5320</td>\n",
       "      <td>1241</td>\n",
       "      <td>83.35</td>\n",
       "      <td>-17725.4811</td>\n",
       "    </tr>\n",
       "    <tr>\n",
       "      <th>Bookcases</th>\n",
       "      <td>12771539</td>\n",
       "      <td>114879.9963</td>\n",
       "      <td>868</td>\n",
       "      <td>48.14</td>\n",
       "      <td>-3472.5560</td>\n",
       "    </tr>\n",
       "    <tr>\n",
       "      <th>Furnishings</th>\n",
       "      <td>51880430</td>\n",
       "      <td>91705.1640</td>\n",
       "      <td>3563</td>\n",
       "      <td>132.40</td>\n",
       "      <td>13059.1436</td>\n",
       "    </tr>\n",
       "    <tr>\n",
       "      <th>Chairs</th>\n",
       "      <td>34936229</td>\n",
       "      <td>328449.1030</td>\n",
       "      <td>2356</td>\n",
       "      <td>105.00</td>\n",
       "      <td>26590.1663</td>\n",
       "    </tr>\n",
       "    <tr>\n",
       "      <th rowspan=\"9\" valign=\"top\">Office Supplies</th>\n",
       "      <th>Supplies</th>\n",
       "      <td>10633558</td>\n",
       "      <td>46673.5380</td>\n",
       "      <td>647</td>\n",
       "      <td>14.60</td>\n",
       "      <td>-1189.0995</td>\n",
       "    </tr>\n",
       "    <tr>\n",
       "      <th>Fasteners</th>\n",
       "      <td>12506063</td>\n",
       "      <td>3024.2800</td>\n",
       "      <td>914</td>\n",
       "      <td>17.80</td>\n",
       "      <td>949.5182</td>\n",
       "    </tr>\n",
       "    <tr>\n",
       "      <th>Labels</th>\n",
       "      <td>19552985</td>\n",
       "      <td>12486.3120</td>\n",
       "      <td>1400</td>\n",
       "      <td>25.00</td>\n",
       "      <td>5546.2540</td>\n",
       "    </tr>\n",
       "    <tr>\n",
       "      <th>Art</th>\n",
       "      <td>43329658</td>\n",
       "      <td>27118.7920</td>\n",
       "      <td>3000</td>\n",
       "      <td>59.60</td>\n",
       "      <td>6527.7870</td>\n",
       "    </tr>\n",
       "    <tr>\n",
       "      <th>Envelopes</th>\n",
       "      <td>13325731</td>\n",
       "      <td>16476.4020</td>\n",
       "      <td>906</td>\n",
       "      <td>20.40</td>\n",
       "      <td>6964.1767</td>\n",
       "    </tr>\n",
       "    <tr>\n",
       "      <th>Appliances</th>\n",
       "      <td>25250538</td>\n",
       "      <td>107532.1610</td>\n",
       "      <td>1729</td>\n",
       "      <td>77.60</td>\n",
       "      <td>18138.0054</td>\n",
       "    </tr>\n",
       "    <tr>\n",
       "      <th>Storage</th>\n",
       "      <td>46248720</td>\n",
       "      <td>223843.6080</td>\n",
       "      <td>3158</td>\n",
       "      <td>63.20</td>\n",
       "      <td>21278.8264</td>\n",
       "    </tr>\n",
       "    <tr>\n",
       "      <th>Binders</th>\n",
       "      <td>83626398</td>\n",
       "      <td>203412.7330</td>\n",
       "      <td>5974</td>\n",
       "      <td>567.00</td>\n",
       "      <td>30221.7633</td>\n",
       "    </tr>\n",
       "    <tr>\n",
       "      <th>Paper</th>\n",
       "      <td>76299221</td>\n",
       "      <td>78479.2060</td>\n",
       "      <td>5178</td>\n",
       "      <td>102.60</td>\n",
       "      <td>34053.5693</td>\n",
       "    </tr>\n",
       "    <tr>\n",
       "      <th rowspan=\"4\" valign=\"top\">Technology</th>\n",
       "      <th>Machines</th>\n",
       "      <td>6364668</td>\n",
       "      <td>189238.6310</td>\n",
       "      <td>440</td>\n",
       "      <td>35.20</td>\n",
       "      <td>3384.7569</td>\n",
       "    </tr>\n",
       "    <tr>\n",
       "      <th>Accessories</th>\n",
       "      <td>44468434</td>\n",
       "      <td>167380.3180</td>\n",
       "      <td>2976</td>\n",
       "      <td>60.80</td>\n",
       "      <td>41936.6357</td>\n",
       "    </tr>\n",
       "    <tr>\n",
       "      <th>Phones</th>\n",
       "      <td>47897175</td>\n",
       "      <td>330007.0540</td>\n",
       "      <td>3289</td>\n",
       "      <td>137.40</td>\n",
       "      <td>44515.7306</td>\n",
       "    </tr>\n",
       "    <tr>\n",
       "      <th>Copiers</th>\n",
       "      <td>3873477</td>\n",
       "      <td>149528.0300</td>\n",
       "      <td>234</td>\n",
       "      <td>11.00</td>\n",
       "      <td>55617.8249</td>\n",
       "    </tr>\n",
       "  </tbody>\n",
       "</table>\n",
       "</div>"
      ],
      "text/plain": [
       "                              Postal Code        Sales  Quantity  Discount  \\\n",
       "Category        Sub-Category                                                 \n",
       "Furniture       Tables           18607828  206965.5320      1241     83.35   \n",
       "                Bookcases        12771539  114879.9963       868     48.14   \n",
       "                Furnishings      51880430   91705.1640      3563    132.40   \n",
       "                Chairs           34936229  328449.1030      2356    105.00   \n",
       "Office Supplies Supplies         10633558   46673.5380       647     14.60   \n",
       "                Fasteners        12506063    3024.2800       914     17.80   \n",
       "                Labels           19552985   12486.3120      1400     25.00   \n",
       "                Art              43329658   27118.7920      3000     59.60   \n",
       "                Envelopes        13325731   16476.4020       906     20.40   \n",
       "                Appliances       25250538  107532.1610      1729     77.60   \n",
       "                Storage          46248720  223843.6080      3158     63.20   \n",
       "                Binders          83626398  203412.7330      5974    567.00   \n",
       "                Paper            76299221   78479.2060      5178    102.60   \n",
       "Technology      Machines          6364668  189238.6310       440     35.20   \n",
       "                Accessories      44468434  167380.3180      2976     60.80   \n",
       "                Phones           47897175  330007.0540      3289    137.40   \n",
       "                Copiers           3873477  149528.0300       234     11.00   \n",
       "\n",
       "                                  Profit  \n",
       "Category        Sub-Category              \n",
       "Furniture       Tables       -17725.4811  \n",
       "                Bookcases     -3472.5560  \n",
       "                Furnishings   13059.1436  \n",
       "                Chairs        26590.1663  \n",
       "Office Supplies Supplies      -1189.0995  \n",
       "                Fasteners       949.5182  \n",
       "                Labels         5546.2540  \n",
       "                Art            6527.7870  \n",
       "                Envelopes      6964.1767  \n",
       "                Appliances    18138.0054  \n",
       "                Storage       21278.8264  \n",
       "                Binders       30221.7633  \n",
       "                Paper         34053.5693  \n",
       "Technology      Machines       3384.7569  \n",
       "                Accessories   41936.6357  \n",
       "                Phones        44515.7306  \n",
       "                Copiers       55617.8249  "
      ]
     },
     "execution_count": 25,
     "metadata": {},
     "output_type": "execute_result"
    }
   ],
   "source": [
    "# most profitable cat and subcat\n",
    "Most_profit_Cat_Subcat = pd.DataFrame(cleaned_data.groupby(['Category','Sub-Category']).sum(['Profit'])).sort_values(['Category','Profit'])\n",
    "Most_profit_Cat_Subcat"
   ]
  },
  {
   "cell_type": "code",
   "execution_count": 26,
   "id": "5225df0d",
   "metadata": {},
   "outputs": [
    {
     "data": {
      "text/plain": [
       "37873"
      ]
     },
     "execution_count": 26,
     "metadata": {},
     "output_type": "execute_result"
    }
   ],
   "source": [
    "#checking \n",
    "cleaned_data['Quantity'].sum()"
   ]
  },
  {
   "cell_type": "code",
   "execution_count": 27,
   "id": "8dabf403",
   "metadata": {},
   "outputs": [
    {
     "data": {
      "text/plain": [
       "37873"
      ]
     },
     "execution_count": 27,
     "metadata": {},
     "output_type": "execute_result"
    }
   ],
   "source": [
    "cleaned_data['Quantity'].sum()"
   ]
  },
  {
   "cell_type": "markdown",
   "id": "56b1360f",
   "metadata": {},
   "source": [
    "# 5. Which are the most prefered shipmode?"
   ]
  },
  {
   "cell_type": "code",
   "execution_count": 28,
   "id": "fd7c3f1d",
   "metadata": {},
   "outputs": [
    {
     "data": {
      "text/plain": [
       "array(['Second Class', 'Standard Class', 'First Class', 'Same Day'],\n",
       "      dtype=object)"
      ]
     },
     "execution_count": 28,
     "metadata": {},
     "output_type": "execute_result"
    }
   ],
   "source": [
    "cleaned_data['Ship Mode'].unique()"
   ]
  },
  {
   "cell_type": "code",
   "execution_count": 29,
   "id": "82c0ea54",
   "metadata": {},
   "outputs": [
    {
     "data": {
      "image/png": "[encoded data removed]",
      "text/plain": [
       "<Figure size 432x288 with 1 Axes>"
      ]
     },
     "metadata": {},
     "output_type": "display_data"
    }
   ],
   "source": [
    "# using seaborn countplot to dislay the shipmode\n",
    "sns.set_style('whitegrid')\n",
    "dataviz=sns.countplot( x='Ship Mode', data = cleaned_data, palette= 'rainbow')"
   ]
  },
  {
   "cell_type": "markdown",
   "id": "2e6c6d62",
   "metadata": {},
   "source": [
    "# 6. Which are the most prefered shipmode by region?"
   ]
  },
  {
   "cell_type": "code",
   "execution_count": 30,
   "id": "53bacc70",
   "metadata": {},
   "outputs": [
    {
     "data": {
      "text/plain": [
       "<seaborn.axisgrid.FacetGrid at 0x25a5eb3c910>"
      ]
     },
     "execution_count": 30,
     "metadata": {},
     "output_type": "execute_result"
    },
    {
     "data": {
      "image/png": "[encoded data removed]",
      "text/plain": [
       "<Figure size 864x216 with 4 Axes>"
      ]
     },
     "metadata": {},
     "output_type": "display_data"
    }
   ],
   "source": [
    "Region_hist=sns.FacetGrid(data=cleaned_data,col='Ship Mode', palette='rainbow')\n",
    "Region_hist.map(plt.hist,'Region')\n",
    "Region_hist.set_ylabels('Number')"
   ]
  },
  {
   "cell_type": "markdown",
   "id": "acecb31b",
   "metadata": {},
   "source": [
    "# # 7. what are the monthly and yearly sales trend?"
   ]
  },
  {
   "cell_type": "code",
   "execution_count": 31,
   "id": "9f246510",
   "metadata": {},
   "outputs": [],
   "source": [
    "# created a seperate column for month and year\n",
    "cleaned_data['month']=pd.DatetimeIndex(cleaned_data['Order Date']).month\n",
    "cleaned_data['year']=pd.DatetimeIndex(cleaned_data['Order Date']).year"
   ]
  },
  {
   "cell_type": "code",
   "execution_count": 32,
   "id": "f65111e8",
   "metadata": {},
   "outputs": [
    {
     "data": {
      "text/plain": [
       "<seaborn.axisgrid.FacetGrid at 0x25a5ed09550>"
      ]
     },
     "execution_count": 32,
     "metadata": {},
     "output_type": "execute_result"
    },
    {
     "data": {
      "image/png": "[encoded data removed]",
      "text/plain": [
       "<Figure size 360x360 with 1 Axes>"
      ]
     },
     "metadata": {},
     "output_type": "display_data"
    },
    {
     "data": {
      "image/png": "[encoded data removed]",
      "text/plain": [
       "<Figure size 360x360 with 1 Axes>"
      ]
     },
     "metadata": {},
     "output_type": "display_data"
    }
   ],
   "source": [
    "# monthly sales trend\n",
    "sns.relplot( x='month', y='Sales', data = cleaned_data, kind='line')\n",
    "\n",
    "# yearly sales trend\n",
    "sns.relplot(x='year', y='Sales', data = cleaned_data, kind='line')\n"
   ]
  },
  {
   "cell_type": "markdown",
   "id": "c2e97f5d",
   "metadata": {},
   "source": [
    "# # 8. \"more visualization and storying telling\" powerBi and Python, still to come!"
   ]
  },
  {
   "cell_type": "code",
   "execution_count": null,
   "id": "9a290713",
   "metadata": {},
   "outputs": [],
   "source": []
  }
 ],
 "metadata": {
  "kernelspec": {
   "display_name": "Python 3 (ipykernel)",
   "language": "python",
   "name": "python3"
  },
  "language_info": {
   "codemirror_mode": {
    "name": "ipython",
    "version": 3
   },
   "file_extension": ".py",
   "mimetype": "text/x-python",
   "name": "python",
   "nbconvert_exporter": "python",
   "pygments_lexer": "ipython3",
   "version": "3.9.7"
  }
 },
 "nbformat": 4,
 "nbformat_minor": 5
}
